{
 "cells": [
  {
   "cell_type": "code",
   "execution_count": 1,
   "metadata": {},
   "outputs": [
    {
     "ename": "FileNotFoundError",
     "evalue": "[Errno 2] No such file or directory: '1stjerner.txt'",
     "output_type": "error",
     "traceback": [
      "\u001b[0;31m---------------------------------------------------------------------------\u001b[0m",
      "\u001b[0;31mFileNotFoundError\u001b[0m                         Traceback (most recent call last)",
      "\u001b[0;32m/var/folders/k7/4m0jgf1s5rggf6q996sfswf00000gn/T/ipykernel_9300/1192033894.py\u001b[0m in \u001b[0;36m<module>\u001b[0;34m\u001b[0m\n\u001b[1;32m      4\u001b[0m \u001b[0mafinn\u001b[0m \u001b[0;34m=\u001b[0m \u001b[0mAfinn\u001b[0m\u001b[0;34m(\u001b[0m\u001b[0;34m)\u001b[0m\u001b[0;34m\u001b[0m\u001b[0;34m\u001b[0m\u001b[0m\n\u001b[1;32m      5\u001b[0m \u001b[0;34m\u001b[0m\u001b[0m\n\u001b[0;32m----> 6\u001b[0;31m \u001b[0mfile\u001b[0m \u001b[0;34m=\u001b[0m \u001b[0mopen\u001b[0m\u001b[0;34m(\u001b[0m\u001b[0;34m'1stjerner.txt'\u001b[0m\u001b[0;34m)\u001b[0m\u001b[0;34m;\u001b[0m\u001b[0;34m\u001b[0m\u001b[0;34m\u001b[0m\u001b[0m\n\u001b[0m\u001b[1;32m      7\u001b[0m \u001b[0mlines\u001b[0m \u001b[0;34m=\u001b[0m \u001b[0mfile\u001b[0m\u001b[0;34m.\u001b[0m\u001b[0mread\u001b[0m\u001b[0;34m(\u001b[0m\u001b[0;34m)\u001b[0m\u001b[0;34m.\u001b[0m\u001b[0msplitlines\u001b[0m\u001b[0;34m(\u001b[0m\u001b[0;34m)\u001b[0m\u001b[0;34m;\u001b[0m\u001b[0;34m\u001b[0m\u001b[0;34m\u001b[0m\u001b[0m\n\u001b[1;32m      8\u001b[0m \u001b[0mfile\u001b[0m\u001b[0;34m.\u001b[0m\u001b[0mclose\u001b[0m\u001b[0;34m(\u001b[0m\u001b[0;34m)\u001b[0m\u001b[0;34m\u001b[0m\u001b[0;34m\u001b[0m\u001b[0m\n",
      "\u001b[0;31mFileNotFoundError\u001b[0m: [Errno 2] No such file or directory: '1stjerner.txt'"
     ]
    }
   ],
   "source": [
    "from afinn import Afinn\n",
    "import numpy as np\n",
    "\n",
    "afinn = Afinn()\n",
    "\n",
    "file = open('1stjerner.txt'); \n",
    "lines = file.read().splitlines(); \n",
    "file.close()\n",
    "\n",
    "title = lines[0::4]\n",
    "text = lines[2::4]\n",
    "\n",
    "\n",
    "scores = np.zeros(len(title))\n",
    "\n",
    "\n",
    "for i in range(len(title)):\n",
    "    scores[i] = afinn.score(title[i]+' '+text[i])\n",
    "\n",
    "\n",
    "fra = np.mean(scores)-1.96*(np.std(scores)/np.sqrt(len(title)))\n",
    "til = np.mean(scores)+1.96*(np.std(scores)/np.sqrt(len(title)))\n",
    "print(\"[\",fra,\",\",til,\"]\")\n",
    "\n",
    "print(\"mean: \", np.mean(scores))\n",
    "print(\"std :\", np.std(scores))"
   ]
  },
  {
   "cell_type": "code",
   "execution_count": 75,
   "metadata": {},
   "outputs": [
    {
     "name": "stdout",
     "output_type": "stream",
     "text": [
      "[ -1.6433768130188577 , 1.2587614284034732 ]\n",
      "mean:  -0.19230769230769232\n",
      "std : 5.338677672414849\n"
     ]
    }
   ],
   "source": [
    "from afinn import Afinn\n",
    "import numpy as np\n",
    "\n",
    "afinn = Afinn()\n",
    "\n",
    "file = open('2stjerner.txt'); \n",
    "lines = file.read().splitlines(); \n",
    "file.close()\n",
    "\n",
    "title = lines[0::4]\n",
    "text = lines[2::4]\n",
    "\n",
    "\n",
    "scores = np.zeros(len(title))\n",
    "\n",
    "\n",
    "for i in range(len(title)):\n",
    "    scores[i] = afinn.score(title[i]+' '+text[i])\n",
    "\n",
    "\n",
    "\n",
    "\n",
    "fra = np.mean(scores)-1.96*(np.std(scores)/np.sqrt(len(title)))\n",
    "til = np.mean(scores)+1.96*(np.std(scores)/np.sqrt(len(title)))\n",
    "print(\"[\",fra,\",\",til,\"]\")\n",
    "\n",
    "print(\"mean: \", np.mean(scores))\n",
    "print(\"std :\", np.std(scores))\n"
   ]
  },
  {
   "cell_type": "code",
   "execution_count": 77,
   "metadata": {},
   "outputs": [
    {
     "name": "stdout",
     "output_type": "stream",
     "text": [
      "[ -0.6602822348039112 , 2.891051465573142 ]\n",
      "mean:  1.1153846153846154\n",
      "std : 6.532916200506497\n"
     ]
    }
   ],
   "source": [
    "from afinn import Afinn\n",
    "import numpy as np\n",
    "\n",
    "afinn = Afinn()\n",
    "\n",
    "file = open('3stjerner.txt'); \n",
    "lines = file.read().splitlines(); \n",
    "file.close()\n",
    "\n",
    "title = lines[0::4]\n",
    "text = lines[2::4]\n",
    "\n",
    "scores = np.zeros(len(title))\n",
    "\n",
    "\n",
    "for i in range(len(title)):\n",
    "    scores[i] = afinn.score(title[i]+' '+text[i])\n",
    "\n",
    "\n",
    "fra = np.mean(scores)-1.96*(np.std(scores)/np.sqrt(len(title)))\n",
    "til = np.mean(scores)+1.96*(np.std(scores)/np.sqrt(len(title)))\n",
    "print(\"[\",fra,\",\",til,\"]\")\n",
    "\n",
    "print(\"mean: \", np.mean(scores))\n",
    "print(\"std :\", np.std(scores))"
   ]
  },
  {
   "cell_type": "code",
   "execution_count": null,
   "metadata": {},
   "outputs": [],
   "source": []
  }
 ],
 "metadata": {
  "interpreter": {
   "hash": "3c39ed960a5accfa42988d26890209543721806547b21dc68dd04ca1629bfb98"
  },
  "kernelspec": {
   "display_name": "Python 3.7.11 64-bit ('Introduction': conda)",
   "language": "python",
   "name": "python3"
  },
  "language_info": {
   "codemirror_mode": {
    "name": "ipython",
    "version": 3
   },
   "file_extension": ".py",
   "mimetype": "text/x-python",
   "name": "python",
   "nbconvert_exporter": "python",
   "pygments_lexer": "ipython3",
   "version": "3.7.11"
  },
  "orig_nbformat": 4
 },
 "nbformat": 4,
 "nbformat_minor": 2
}
